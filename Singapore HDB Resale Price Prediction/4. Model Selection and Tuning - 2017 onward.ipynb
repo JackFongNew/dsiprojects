{
 "cells": [
  {
   "cell_type": "markdown",
   "metadata": {},
   "source": [
    "# Table of Content:\n",
    "1. EDA - Original Dataset - 2017 onward <br>\n",
    "    1.1 Data Acquisition and Exploration <br>\n",
    "    1.2 Univariate Plots <br>\n",
    "    1.3 Checking for Homoscedasticity <br>\n",
    "    1.4 Statsmodels <br>\n",
    "2. Data Cleaning and Wrangling - 2017 onward <br>\n",
    "    2.1 Data Cleaning <br>\n",
    "    2.2 Feature Engineering <br>\n",
    "    2.3 Checking for Homoscedasticity <br>\n",
    "    2.4 HDB Geospatial <br>\n",
    "3. EDA and Feature Selection - 2017 onward <br>\n",
    "    3.1 Scatter Plots of Numerical Features <br>\n",
    "    3.2 Histograms of Numerical Features <br>\n",
    "    3.3 Histograms and Boxplots of Categorical Features <br>\n",
    "    3.4 Encoding <br>\n",
    "    3.5 Correlation Heatmap of Resale Price with All Features <br>\n",
    "    3.6 Pairwise Correlation <br>\n",
    "    3.7 Low Variance <br>\n",
    "    3.8 Recursive Feature Elimination Cross Validation <br>\n",
    "    3.9 CART and Boosted Feature Importance <br>\n",
    "    3.10 Permutation Feature Importance <br>\n",
    "    3.11 Final Feature Selection <br>\n",
    "4. Model Selection and Tuning - 2017 onward <br>\n",
    "    4.1 [Model Preparation](#Model-Preparation) <br>\n",
    "    4.2 [Conclusion](#Conclusion) <br>\n",
    "    4.3 [Benefits of the model](#Benefits-of-the-model) <br>\n",
    "    4.4 [Limitations of the model](#Limitations-of-the-model) <br>\n",
    "    4.5 [Future Work](#Future-Work) <br>\n",
    "    4.6 [Model Improvement](#Model-Improvement) <br>\n",
    "    4.7 [Web Application Improvement](#Web-Application-Improvement) <br>"
   ]
  },
  {
   "cell_type": "code",
   "execution_count": 1,
   "metadata": {},
   "outputs": [],
   "source": [
    "import pandas as pd\n",
    "import numpy as np\n",
    "import matplotlib.pyplot as plt\n",
    "import seaborn as sns\n",
    "import pickle\n",
    "\n",
    "from sklearn.preprocessing import StandardScaler\n",
    "from sklearn.model_selection import train_test_split, GridSearchCV, cross_val_score\n",
    "from sklearn.pipeline import Pipeline\n",
    "from sklearn.linear_model import LinearRegression, Lasso, Ridge\n",
    "from sklearn.metrics import mean_squared_error\n",
    "from sklearn.neighbors import KNeighborsRegressor\n",
    "\n",
    "from sklearn.tree import DecisionTreeRegressor\n",
    "from sklearn.ensemble import RandomForestRegressor, ExtraTreesRegressor, GradientBoostingRegressor, AdaBoostRegressor\n",
    "\n",
    "from sklearn.svm import SVR\n",
    "from xgboost import XGBRegressor\n",
    "import lightgbm as lgb\n",
    "\n",
    "from imblearn.over_sampling import SMOTE\n",
    "\n",
    "pd.options.display.max_columns = None\n",
    "pd.options.display.max_rows = None\n",
    "\n",
    "%matplotlib inline"
   ]
  },
  {
   "cell_type": "code",
   "execution_count": 2,
   "metadata": {},
   "outputs": [],
   "source": [
    "hdb = pd.read_csv('dataset/hdb_17_final_features.csv')"
   ]
  },
  {
   "cell_type": "markdown",
   "metadata": {},
   "source": [
    "## Model Preparation\n",
    "### Train Test Split & Standard Scaler\n",
    "\n",
    "The typical work flow for building a model based on supervised learning from a training set involves splitting datasets into random train and test subsets. I will train the model on the train subsets and then test it on the test subsets."
   ]
  },
  {
   "cell_type": "code",
   "execution_count": 3,
   "metadata": {},
   "outputs": [],
   "source": [
    "X = hdb.drop(columns=['resale_price'])\n",
    "y = hdb['resale_price']"
   ]
  },
  {
   "cell_type": "code",
   "execution_count": 4,
   "metadata": {},
   "outputs": [],
   "source": [
    "X_train, X_test, y_train, y_test = train_test_split(X, y, test_size=0.3, random_state=42)"
   ]
  },
  {
   "cell_type": "code",
   "execution_count": 5,
   "metadata": {},
   "outputs": [],
   "source": [
    "# Instiantiate models\n",
    "models = {'lr': LinearRegression(),\n",
    "          'rd': Ridge(random_state=42),\n",
    "          'ls': Lasso(random_state=42),\n",
    "          'dt': DecisionTreeRegressor(random_state=42),\n",
    "          'et': ExtraTreesRegressor(random_state=42),\n",
    "          'rf': RandomForestRegressor(random_state=42),\n",
    "          'gb': GradientBoostingRegressor(random_state=42),\n",
    "          'ab': AdaBoostRegressor(random_state=42),\n",
    "          'svr': SVR(),\n",
    "          'xgb': XGBRegressor(random_state=42),\n",
    "          'lg': lgb.LGBMRegressor(random_state=42),\n",
    "          'knr': KNeighborsRegressor()\n",
    "         }"
   ]
  },
  {
   "cell_type": "code",
   "execution_count": 6,
   "metadata": {},
   "outputs": [],
   "source": [
    "# Instantiate lists to store results\n",
    "init_list = []\n",
    "gs_list = []\n",
    "\n",
    "# Function to run model -- input scaler and model\n",
    "def run_model(mod, mod_params={}, grid_search=False):\n",
    "    \n",
    "    # Initial dictionary to hold model results\n",
    "    results = {}\n",
    "    \n",
    "    pipe = Pipeline([\n",
    "            ('ss', StandardScaler()),\n",
    "            (mod, models[mod])\n",
    "            ])\n",
    "    \n",
    "    if grid_search:\n",
    "        # Instantiate list to store gridsearch results\n",
    "        gs = GridSearchCV(pipe, param_grid=mod_params, cv=5, verbose=1, scoring='r2', n_jobs=-1)\n",
    "        gs.fit(X_train, y_train)\n",
    "        pipe = gs.best_estimator_\n",
    "        \n",
    "    else:\n",
    "        pipe.fit(X_train, y_train)\n",
    "    \n",
    "    # Retrieve metrics\n",
    "    results['model'] = mod\n",
    "    results['train R2'] = round(pipe.score(X_train, y_train), 4)\n",
    "    results['test R2'] = round(pipe.score(X_test, y_test), 4)\n",
    "    results['CV R2'] = round((cross_val_score(pipe, X_train, y_train, cv=5)).mean(), 4)\n",
    "    results['train adj_R2'] = round((1 - (1 - pipe.score(X_train, y_train)) * ((X_train.shape[0] - 1) / (X_train.shape[0] - X_train.shape[1] - 1))), 4)\n",
    "    results['test adj_R2'] = round((1 - (1 - pipe.score(X_test, y_test)) * ((X_test.shape[0] - 1) / (X_test.shape[0] - X_test.shape[1] - 1))), 4)\n",
    "    results['CV adj_R2'] = round((1 - (1 - (cross_val_score(pipe, X_train, y_train, cv=5)).mean()) * ((X_train.shape[0] - 1) / (X_train.shape[0] - X_train.shape[1] - 1))), 4)\n",
    "    results['train RMSE'] = round(np.sqrt(mean_squared_error(y_train, pipe.predict(X_train))), 2)\n",
    "    results['test RMSE'] = round(np.sqrt(mean_squared_error(y_test, pipe.predict(X_test))), 2)\n",
    "    results['CV RMSE'] = round(-cross_val_score(pipe, X_train, y_train, cv=5, \n",
    "                                          scoring='neg_root_mean_squared_error').mean(), 2)\n",
    "    \n",
    "    if grid_search:\n",
    "        gs_list.append(results)\n",
    "        print('### BEST PARAMS ###')\n",
    "        display(pipe)\n",
    "        \n",
    "    else:\n",
    "        init_list.append(results)\n",
    "    \n",
    "    print('### METRICS ###')\n",
    "    display(results)\n",
    "    \n",
    "    return pipe"
   ]
  },
  {
   "cell_type": "markdown",
   "metadata": {},
   "source": [
    "#### Linear Regression\n",
    "\n",
    "[Linear Regression](https://towardsdatascience.com/assumptions-of-linear-regression-algorithm-ed9ea32224e1) is the standard algorithm for regression that assumes a linear relationship between inputs and the target variable.\n",
    "\n",
    "[Multiple Linear Regression](https://www.investopedia.com/terms/m/mlr.asp) is like Linear Regression, but with more than one independent variables, which mean we are using multiple independent variables to predict the target variable.\n",
    "\n",
    "I will be using Linear Regression as my baseline model that will provide us an useful first step, and allow us to understand our problem better in order to inform us on th best way to approach it."
   ]
  },
  {
   "cell_type": "code",
   "execution_count": 7,
   "metadata": {},
   "outputs": [
    {
     "data": {
      "text/plain": [
       "{'memory': None,\n",
       " 'steps': [('lr', LinearRegression())],\n",
       " 'verbose': False,\n",
       " 'lr': LinearRegression(),\n",
       " 'lr__copy_X': True,\n",
       " 'lr__fit_intercept': True,\n",
       " 'lr__n_jobs': None,\n",
       " 'lr__normalize': False}"
      ]
     },
     "execution_count": 7,
     "metadata": {},
     "output_type": "execute_result"
    }
   ],
   "source": [
    "Pipeline([('lr', LinearRegression())]).get_params()"
   ]
  },
  {
   "cell_type": "code",
   "execution_count": 8,
   "metadata": {},
   "outputs": [],
   "source": [
    "lr_params = {\n",
    "    'lr__n_jobs': [None, -1]\n",
    "            }"
   ]
  },
  {
   "cell_type": "code",
   "execution_count": 9,
   "metadata": {},
   "outputs": [
    {
     "name": "stdout",
     "output_type": "stream",
     "text": [
      "Fitting 5 folds for each of 2 candidates, totalling 10 fits\n"
     ]
    },
    {
     "name": "stderr",
     "output_type": "stream",
     "text": [
      "[Parallel(n_jobs=-1)]: Using backend LokyBackend with 12 concurrent workers.\n",
      "[Parallel(n_jobs=-1)]: Done  10 out of  10 | elapsed:    4.2s finished\n"
     ]
    },
    {
     "name": "stdout",
     "output_type": "stream",
     "text": [
      "### BEST PARAMS ###\n"
     ]
    },
    {
     "data": {
      "text/plain": [
       "Pipeline(steps=[('ss', StandardScaler()), ('lr', LinearRegression())])"
      ]
     },
     "metadata": {},
     "output_type": "display_data"
    },
    {
     "name": "stdout",
     "output_type": "stream",
     "text": [
      "### METRICS ###\n"
     ]
    },
    {
     "data": {
      "text/plain": [
       "{'model': 'lr',\n",
       " 'train R2': 0.8922,\n",
       " 'test R2': 0.8903,\n",
       " 'CV R2': 0.8919,\n",
       " 'train adj_R2': 0.8921,\n",
       " 'test adj_R2': 0.8901,\n",
       " 'CV adj_R2': 0.8918,\n",
       " 'train RMSE': 50676.87,\n",
       " 'test RMSE': 50569.51,\n",
       " 'CV RMSE': 50733.88}"
      ]
     },
     "metadata": {},
     "output_type": "display_data"
    }
   ],
   "source": [
    "lr_gs = run_model('lr', mod_params=lr_params, grid_search=True)"
   ]
  },
  {
   "cell_type": "markdown",
   "metadata": {},
   "source": [
    "#### Ridge Regression\n",
    "\n",
    "[Ridge regression](https://machinelearningmastery.com/ridge-regression-with-python/) is a regularized linear regression that includes an L2 penalty. It has the effect of shrinking the coefficients for those input variables that do not contribute much to the prediction task."
   ]
  },
  {
   "cell_type": "code",
   "execution_count": 10,
   "metadata": {},
   "outputs": [
    {
     "data": {
      "text/plain": [
       "{'memory': None,\n",
       " 'steps': [('rd', Ridge())],\n",
       " 'verbose': False,\n",
       " 'rd': Ridge(),\n",
       " 'rd__alpha': 1.0,\n",
       " 'rd__copy_X': True,\n",
       " 'rd__fit_intercept': True,\n",
       " 'rd__max_iter': None,\n",
       " 'rd__normalize': False,\n",
       " 'rd__random_state': None,\n",
       " 'rd__solver': 'auto',\n",
       " 'rd__tol': 0.001}"
      ]
     },
     "execution_count": 10,
     "metadata": {},
     "output_type": "execute_result"
    }
   ],
   "source": [
    "Pipeline([('rd', Ridge())]).get_params()"
   ]
  },
  {
   "cell_type": "code",
   "execution_count": 11,
   "metadata": {},
   "outputs": [],
   "source": [
    "rd_params = {\n",
    "    'rd__alpha': np.linspace(1, 2, 5)\n",
    "            }"
   ]
  },
  {
   "cell_type": "code",
   "execution_count": 12,
   "metadata": {
    "scrolled": false
   },
   "outputs": [
    {
     "name": "stdout",
     "output_type": "stream",
     "text": [
      "Fitting 5 folds for each of 5 candidates, totalling 25 fits\n"
     ]
    },
    {
     "name": "stderr",
     "output_type": "stream",
     "text": [
      "[Parallel(n_jobs=-1)]: Using backend LokyBackend with 12 concurrent workers.\n",
      "[Parallel(n_jobs=-1)]: Done  25 out of  25 | elapsed:    3.0s finished\n"
     ]
    },
    {
     "name": "stdout",
     "output_type": "stream",
     "text": [
      "### BEST PARAMS ###\n"
     ]
    },
    {
     "data": {
      "text/plain": [
       "Pipeline(steps=[('ss', StandardScaler()),\n",
       "                ('rd', Ridge(alpha=1.25, random_state=42))])"
      ]
     },
     "metadata": {},
     "output_type": "display_data"
    },
    {
     "name": "stdout",
     "output_type": "stream",
     "text": [
      "### METRICS ###\n"
     ]
    },
    {
     "data": {
      "text/plain": [
       "{'model': 'rd',\n",
       " 'train R2': 0.8922,\n",
       " 'test R2': 0.8903,\n",
       " 'CV R2': 0.8919,\n",
       " 'train adj_R2': 0.8921,\n",
       " 'test adj_R2': 0.8901,\n",
       " 'CV adj_R2': 0.8918,\n",
       " 'train RMSE': 50676.89,\n",
       " 'test RMSE': 50569.41,\n",
       " 'CV RMSE': 50733.86}"
      ]
     },
     "metadata": {},
     "output_type": "display_data"
    }
   ],
   "source": [
    "rd_gs = run_model('rd', mod_params=rd_params, grid_search=True)"
   ]
  },
  {
   "cell_type": "markdown",
   "metadata": {},
   "source": [
    "#### Lasso Regression\n",
    "\n",
    "[Lasso Regression](https://machinelearningmastery.com/lasso-regression-with-python/) is a regularized linear regression that includes an L1 penalty. It has the effect of shrinking the coefficients for those input variables that do not contribute much to the prediction task. This penalty allows some coefficient values of the input variable become zero, allowing input variables to be effectively removed from the model, providing a type of automatic feature selection."
   ]
  },
  {
   "cell_type": "code",
   "execution_count": 13,
   "metadata": {
    "scrolled": true
   },
   "outputs": [
    {
     "data": {
      "text/plain": [
       "{'memory': None,\n",
       " 'steps': [('ls', Lasso())],\n",
       " 'verbose': False,\n",
       " 'ls': Lasso(),\n",
       " 'ls__alpha': 1.0,\n",
       " 'ls__copy_X': True,\n",
       " 'ls__fit_intercept': True,\n",
       " 'ls__max_iter': 1000,\n",
       " 'ls__normalize': False,\n",
       " 'ls__positive': False,\n",
       " 'ls__precompute': False,\n",
       " 'ls__random_state': None,\n",
       " 'ls__selection': 'cyclic',\n",
       " 'ls__tol': 0.0001,\n",
       " 'ls__warm_start': False}"
      ]
     },
     "execution_count": 13,
     "metadata": {},
     "output_type": "execute_result"
    }
   ],
   "source": [
    "Pipeline([('ls', Lasso())]).get_params()"
   ]
  },
  {
   "cell_type": "code",
   "execution_count": 14,
   "metadata": {},
   "outputs": [],
   "source": [
    "ls_params = {\n",
    "    'ls__alpha': np.linspace(95, 97, 5),\n",
    "    'ls__max_iter': [500, 1000]\n",
    "            }"
   ]
  },
  {
   "cell_type": "code",
   "execution_count": 15,
   "metadata": {
    "scrolled": true
   },
   "outputs": [
    {
     "name": "stdout",
     "output_type": "stream",
     "text": [
      "Fitting 5 folds for each of 10 candidates, totalling 50 fits\n"
     ]
    },
    {
     "name": "stderr",
     "output_type": "stream",
     "text": [
      "[Parallel(n_jobs=-1)]: Using backend LokyBackend with 12 concurrent workers.\n",
      "[Parallel(n_jobs=-1)]: Done  26 tasks      | elapsed:   11.9s\n",
      "[Parallel(n_jobs=-1)]: Done  50 out of  50 | elapsed:   19.5s finished\n"
     ]
    },
    {
     "name": "stdout",
     "output_type": "stream",
     "text": [
      "### BEST PARAMS ###\n"
     ]
    },
    {
     "data": {
      "text/plain": [
       "Pipeline(steps=[('ss', StandardScaler()),\n",
       "                ('ls', Lasso(alpha=95.0, max_iter=500, random_state=42))])"
      ]
     },
     "metadata": {},
     "output_type": "display_data"
    },
    {
     "name": "stdout",
     "output_type": "stream",
     "text": [
      "### METRICS ###\n"
     ]
    },
    {
     "data": {
      "text/plain": [
       "{'model': 'ls',\n",
       " 'train R2': 0.8918,\n",
       " 'test R2': 0.8899,\n",
       " 'CV R2': 0.8915,\n",
       " 'train adj_R2': 0.8917,\n",
       " 'test adj_R2': 0.8897,\n",
       " 'CV adj_R2': 0.8914,\n",
       " 'train RMSE': 50761.81,\n",
       " 'test RMSE': 50648.79,\n",
       " 'CV RMSE': 50815.99}"
      ]
     },
     "metadata": {},
     "output_type": "display_data"
    }
   ],
   "source": [
    "ls_gs = run_model('ls', mod_params=ls_params, grid_search=True)"
   ]
  },
  {
   "cell_type": "markdown",
   "metadata": {},
   "source": [
    "#### Decision Tree Regression\n",
    "\n",
    "[Decision Tree Regression](https://towardsdatascience.com/baby-steps-towards-data-science-decision-tree-regression-in-python-323beeacbb6e) enables one to divide the data into multiple splits. These splits typically answer a simple if-else condition. The algorithm decides the optimal number of splits in the data. Decision trees regression normally use mean squared error (MSE) to decide to split a node in two or more sub-nodes.\n",
    "\n",
    "Suppose we are doing a binary tree the algorithm first will pick a value, and split the data into two subsets. For each subset, it will calculate the MSE separately. The tree chooses the value with results in smallest MSE value. Since this method of splitting data closely resembles the branches of a tree, this is probably is known as a decision tree. In fact, the last level are known as leaves."
   ]
  },
  {
   "cell_type": "code",
   "execution_count": 16,
   "metadata": {},
   "outputs": [
    {
     "data": {
      "text/plain": [
       "{'memory': None,\n",
       " 'steps': [('dt', DecisionTreeRegressor())],\n",
       " 'verbose': False,\n",
       " 'dt': DecisionTreeRegressor(),\n",
       " 'dt__ccp_alpha': 0.0,\n",
       " 'dt__criterion': 'mse',\n",
       " 'dt__max_depth': None,\n",
       " 'dt__max_features': None,\n",
       " 'dt__max_leaf_nodes': None,\n",
       " 'dt__min_impurity_decrease': 0.0,\n",
       " 'dt__min_impurity_split': None,\n",
       " 'dt__min_samples_leaf': 1,\n",
       " 'dt__min_samples_split': 2,\n",
       " 'dt__min_weight_fraction_leaf': 0.0,\n",
       " 'dt__presort': 'deprecated',\n",
       " 'dt__random_state': None,\n",
       " 'dt__splitter': 'best'}"
      ]
     },
     "execution_count": 16,
     "metadata": {},
     "output_type": "execute_result"
    }
   ],
   "source": [
    "Pipeline([('dt', DecisionTreeRegressor())]).get_params()"
   ]
  },
  {
   "cell_type": "code",
   "execution_count": 17,
   "metadata": {},
   "outputs": [],
   "source": [
    "dt_params = {\n",
    "    'dt__max_depth': [20, 25],\n",
    "    'dt__min_samples_leaf': [3]\n",
    "            }"
   ]
  },
  {
   "cell_type": "code",
   "execution_count": 18,
   "metadata": {
    "scrolled": true
   },
   "outputs": [
    {
     "name": "stdout",
     "output_type": "stream",
     "text": [
      "Fitting 5 folds for each of 2 candidates, totalling 10 fits\n"
     ]
    },
    {
     "name": "stderr",
     "output_type": "stream",
     "text": [
      "[Parallel(n_jobs=-1)]: Using backend LokyBackend with 12 concurrent workers.\n",
      "[Parallel(n_jobs=-1)]: Done  10 out of  10 | elapsed:    1.8s finished\n"
     ]
    },
    {
     "name": "stdout",
     "output_type": "stream",
     "text": [
      "### BEST PARAMS ###\n"
     ]
    },
    {
     "data": {
      "text/plain": [
       "Pipeline(steps=[('ss', StandardScaler()),\n",
       "                ('dt',\n",
       "                 DecisionTreeRegressor(max_depth=20, min_samples_leaf=3,\n",
       "                                       random_state=42))])"
      ]
     },
     "metadata": {},
     "output_type": "display_data"
    },
    {
     "name": "stdout",
     "output_type": "stream",
     "text": [
      "### METRICS ###\n"
     ]
    },
    {
     "data": {
      "text/plain": [
       "{'model': 'dt',\n",
       " 'train R2': 0.9846,\n",
       " 'test R2': 0.9561,\n",
       " 'CV R2': 0.9507,\n",
       " 'train adj_R2': 0.9845,\n",
       " 'test adj_R2': 0.9561,\n",
       " 'CV adj_R2': 0.9506,\n",
       " 'train RMSE': 19180.0,\n",
       " 'test RMSE': 31967.72,\n",
       " 'CV RMSE': 34255.59}"
      ]
     },
     "metadata": {},
     "output_type": "display_data"
    }
   ],
   "source": [
    "dt_gs = run_model('dt', mod_params=dt_params, grid_search=True)"
   ]
  },
  {
   "cell_type": "markdown",
   "metadata": {},
   "source": [
    "#### Extra Trees Regression\n",
    "\n",
    "[Extra Trees](https://machinelearningmastery.com/extra-trees-ensemble-with-python/) is an ensemble machine learning algorithm that combines the predictions from many decision trees. Specifically, it is an ensemble of decision trees and is related to other ensembles of decision trees algorithms such as bootstrap aggregation (bagging) and random forest.\n",
    "\n",
    "The Extra Trees algorithm works by creating a large number of unpruned decision trees from the training dataset. Predictions are made by averaging the prediction from decision trees.\n",
    "\n",
    "The Extra Trees algorithm is related to the widely used random forest algorithm. It can often achieve as-good or better performance than the random forest algorithm, although it uses a simpler algorithm to construct the decision trees used as members of the ensemble."
   ]
  },
  {
   "cell_type": "code",
   "execution_count": 19,
   "metadata": {},
   "outputs": [
    {
     "data": {
      "text/plain": [
       "{'memory': None,\n",
       " 'steps': [('et', ExtraTreesRegressor())],\n",
       " 'verbose': False,\n",
       " 'et': ExtraTreesRegressor(),\n",
       " 'et__bootstrap': False,\n",
       " 'et__ccp_alpha': 0.0,\n",
       " 'et__criterion': 'mse',\n",
       " 'et__max_depth': None,\n",
       " 'et__max_features': 'auto',\n",
       " 'et__max_leaf_nodes': None,\n",
       " 'et__max_samples': None,\n",
       " 'et__min_impurity_decrease': 0.0,\n",
       " 'et__min_impurity_split': None,\n",
       " 'et__min_samples_leaf': 1,\n",
       " 'et__min_samples_split': 2,\n",
       " 'et__min_weight_fraction_leaf': 0.0,\n",
       " 'et__n_estimators': 100,\n",
       " 'et__n_jobs': None,\n",
       " 'et__oob_score': False,\n",
       " 'et__random_state': None,\n",
       " 'et__verbose': 0,\n",
       " 'et__warm_start': False}"
      ]
     },
     "execution_count": 19,
     "metadata": {},
     "output_type": "execute_result"
    }
   ],
   "source": [
    "Pipeline([('et', ExtraTreesRegressor())]).get_params()"
   ]
  },
  {
   "cell_type": "code",
   "execution_count": 20,
   "metadata": {},
   "outputs": [],
   "source": [
    "et_params = {\n",
    "    'et__n_estimators': [300, 500],\n",
    "    'et__max_depth': [20, 25],\n",
    "    'et__min_samples_leaf': [3]\n",
    "           }"
   ]
  },
  {
   "cell_type": "code",
   "execution_count": 21,
   "metadata": {
    "scrolled": true
   },
   "outputs": [
    {
     "name": "stdout",
     "output_type": "stream",
     "text": [
      "Fitting 5 folds for each of 4 candidates, totalling 20 fits\n"
     ]
    },
    {
     "name": "stderr",
     "output_type": "stream",
     "text": [
      "[Parallel(n_jobs=-1)]: Using backend LokyBackend with 12 concurrent workers.\n",
      "[Parallel(n_jobs=-1)]: Done  18 out of  20 | elapsed:  8.8min remaining:   58.6s\n",
      "[Parallel(n_jobs=-1)]: Done  20 out of  20 | elapsed:  9.3min finished\n"
     ]
    },
    {
     "name": "stdout",
     "output_type": "stream",
     "text": [
      "### BEST PARAMS ###\n"
     ]
    },
    {
     "data": {
      "text/plain": [
       "Pipeline(steps=[('ss', StandardScaler()),\n",
       "                ('et',\n",
       "                 ExtraTreesRegressor(max_depth=25, min_samples_leaf=3,\n",
       "                                     n_estimators=500, random_state=42))])"
      ]
     },
     "metadata": {},
     "output_type": "display_data"
    },
    {
     "name": "stdout",
     "output_type": "stream",
     "text": [
      "### METRICS ###\n"
     ]
    },
    {
     "data": {
      "text/plain": [
       "{'model': 'et',\n",
       " 'train R2': 0.9889,\n",
       " 'test R2': 0.9733,\n",
       " 'CV R2': 0.9715,\n",
       " 'train adj_R2': 0.9889,\n",
       " 'test adj_R2': 0.9733,\n",
       " 'CV adj_R2': 0.9715,\n",
       " 'train RMSE': 16254.23,\n",
       " 'test RMSE': 24933.78,\n",
       " 'CV RMSE': 26051.45}"
      ]
     },
     "metadata": {},
     "output_type": "display_data"
    }
   ],
   "source": [
    "et_gs = run_model('et', mod_params=et_params, grid_search=True)"
   ]
  },
  {
   "cell_type": "markdown",
   "metadata": {},
   "source": [
    "#### Random Forest Regression\n",
    "\n",
    "[Random Forest](https://medium.com/datadriveninvestor/random-forest-regression-9871bc9a25eb#:~:text=A%20Random%20Forest%20is%20an,Aggregation%2C%20commonly%20known%20as%20bagging.) is an ensemble machine learning technique capable of performing both regression and classification tasks using multiple decision trees and a statistical technique called bagging. Bagging along with boosting are two of the most popular ensemble techniques which aim to tackle high variance and high bias. A RF instead of just averaging the prediction of trees it uses two key concepts that give it the name random:\n",
    "\n",
    "1.\tRandom sampling of training observations when building trees\n",
    "\n",
    "2.\tRandom subsets of features for splitting nodes\n",
    "\n",
    "In other words, Random forest builds multiple decision trees and merge their predictions together to get a more accurate and stable prediction rather than relying on individual decision trees."
   ]
  },
  {
   "cell_type": "code",
   "execution_count": 22,
   "metadata": {},
   "outputs": [
    {
     "data": {
      "text/plain": [
       "{'memory': None,\n",
       " 'steps': [('rf', RandomForestRegressor())],\n",
       " 'verbose': False,\n",
       " 'rf': RandomForestRegressor(),\n",
       " 'rf__bootstrap': True,\n",
       " 'rf__ccp_alpha': 0.0,\n",
       " 'rf__criterion': 'mse',\n",
       " 'rf__max_depth': None,\n",
       " 'rf__max_features': 'auto',\n",
       " 'rf__max_leaf_nodes': None,\n",
       " 'rf__max_samples': None,\n",
       " 'rf__min_impurity_decrease': 0.0,\n",
       " 'rf__min_impurity_split': None,\n",
       " 'rf__min_samples_leaf': 1,\n",
       " 'rf__min_samples_split': 2,\n",
       " 'rf__min_weight_fraction_leaf': 0.0,\n",
       " 'rf__n_estimators': 100,\n",
       " 'rf__n_jobs': None,\n",
       " 'rf__oob_score': False,\n",
       " 'rf__random_state': None,\n",
       " 'rf__verbose': 0,\n",
       " 'rf__warm_start': False}"
      ]
     },
     "execution_count": 22,
     "metadata": {},
     "output_type": "execute_result"
    }
   ],
   "source": [
    "Pipeline([('rf', RandomForestRegressor())]).get_params()"
   ]
  },
  {
   "cell_type": "code",
   "execution_count": 23,
   "metadata": {},
   "outputs": [],
   "source": [
    "rf_params = {\n",
    "    'rf__n_estimators': [300, 500],\n",
    "    'rf__max_depth': [20, 25],\n",
    "    'rf__min_samples_leaf': [3]\n",
    "            }"
   ]
  },
  {
   "cell_type": "code",
   "execution_count": 24,
   "metadata": {
    "scrolled": true
   },
   "outputs": [
    {
     "name": "stdout",
     "output_type": "stream",
     "text": [
      "Fitting 5 folds for each of 4 candidates, totalling 20 fits\n"
     ]
    },
    {
     "name": "stderr",
     "output_type": "stream",
     "text": [
      "[Parallel(n_jobs=-1)]: Using backend LokyBackend with 12 concurrent workers.\n",
      "[Parallel(n_jobs=-1)]: Done  18 out of  20 | elapsed:  8.1min remaining:   54.2s\n",
      "[Parallel(n_jobs=-1)]: Done  20 out of  20 | elapsed:  9.0min finished\n"
     ]
    },
    {
     "name": "stdout",
     "output_type": "stream",
     "text": [
      "### BEST PARAMS ###\n"
     ]
    },
    {
     "data": {
      "text/plain": [
       "Pipeline(steps=[('ss', StandardScaler()),\n",
       "                ('rf',\n",
       "                 RandomForestRegressor(max_depth=25, min_samples_leaf=3,\n",
       "                                       n_estimators=500, random_state=42))])"
      ]
     },
     "metadata": {},
     "output_type": "display_data"
    },
    {
     "name": "stdout",
     "output_type": "stream",
     "text": [
      "### METRICS ###\n"
     ]
    },
    {
     "data": {
      "text/plain": [
       "{'model': 'rf',\n",
       " 'train R2': 0.9877,\n",
       " 'test R2': 0.9708,\n",
       " 'CV R2': 0.9684,\n",
       " 'train adj_R2': 0.9877,\n",
       " 'test adj_R2': 0.9707,\n",
       " 'CV adj_R2': 0.9684,\n",
       " 'train RMSE': 17086.25,\n",
       " 'test RMSE': 26095.85,\n",
       " 'CV RMSE': 27414.71}"
      ]
     },
     "metadata": {},
     "output_type": "display_data"
    }
   ],
   "source": [
    "rf_gs = run_model('rf', mod_params=rf_params, grid_search=True)"
   ]
  },
  {
   "cell_type": "markdown",
   "metadata": {},
   "source": [
    "#### AdaBoost Regression\n",
    "\n",
    "[AdaBoost](https://machinelearningmastery.com/adaboost-ensemble-in-python/) algorithm involves using very short (one-level) decision trees as weak learners that are added sequentially to the ensemble. Each subsequent model attempts to correct the predictions made by the model before it in the sequence. This is achieved by weighing the training dataset to put more focus on training examples on which prior models made prediction errors."
   ]
  },
  {
   "cell_type": "code",
   "execution_count": 25,
   "metadata": {},
   "outputs": [
    {
     "data": {
      "text/plain": [
       "{'memory': None,\n",
       " 'steps': [('ab', AdaBoostRegressor())],\n",
       " 'verbose': False,\n",
       " 'ab': AdaBoostRegressor(),\n",
       " 'ab__base_estimator': None,\n",
       " 'ab__learning_rate': 1.0,\n",
       " 'ab__loss': 'linear',\n",
       " 'ab__n_estimators': 50,\n",
       " 'ab__random_state': None}"
      ]
     },
     "execution_count": 25,
     "metadata": {},
     "output_type": "execute_result"
    }
   ],
   "source": [
    "Pipeline([('ab', AdaBoostRegressor())]).get_params()"
   ]
  },
  {
   "cell_type": "code",
   "execution_count": 26,
   "metadata": {},
   "outputs": [],
   "source": [
    "ab_params = {\n",
    "    'ab__base_estimator': [DecisionTreeRegressor(max_depth=20), ExtraTreesRegressor(max_depth=20), RandomForestRegressor(max_depth=20)],\n",
    "    'ab__learning_rate': [0.25, 0.5, 0.75],\n",
    "    'ab__n_estimators': [200, 300]\n",
    "            }"
   ]
  },
  {
   "cell_type": "code",
   "execution_count": 27,
   "metadata": {
    "scrolled": true
   },
   "outputs": [
    {
     "name": "stdout",
     "output_type": "stream",
     "text": [
      "Fitting 5 folds for each of 18 candidates, totalling 90 fits\n"
     ]
    },
    {
     "name": "stderr",
     "output_type": "stream",
     "text": [
      "[Parallel(n_jobs=-1)]: Using backend LokyBackend with 12 concurrent workers.\n",
      "[Parallel(n_jobs=-1)]: Done  26 tasks      | elapsed: 16.5min\n",
      "[Parallel(n_jobs=-1)]: Done  90 out of  90 | elapsed: 130.6min finished\n"
     ]
    },
    {
     "name": "stdout",
     "output_type": "stream",
     "text": [
      "### BEST PARAMS ###\n"
     ]
    },
    {
     "data": {
      "text/plain": [
       "Pipeline(steps=[('ss', StandardScaler()),\n",
       "                ('ab',\n",
       "                 AdaBoostRegressor(base_estimator=DecisionTreeRegressor(max_depth=20),\n",
       "                                   learning_rate=0.25, n_estimators=300,\n",
       "                                   random_state=42))])"
      ]
     },
     "metadata": {},
     "output_type": "display_data"
    },
    {
     "name": "stdout",
     "output_type": "stream",
     "text": [
      "### METRICS ###\n"
     ]
    },
    {
     "data": {
      "text/plain": [
       "{'model': 'ab',\n",
       " 'train R2': 0.992,\n",
       " 'test R2': 0.9709,\n",
       " 'CV R2': 0.9689,\n",
       " 'train adj_R2': 0.992,\n",
       " 'test adj_R2': 0.9709,\n",
       " 'CV adj_R2': 0.9689,\n",
       " 'train RMSE': 13801.33,\n",
       " 'test RMSE': 26036.03,\n",
       " 'CV RMSE': 27205.5}"
      ]
     },
     "metadata": {},
     "output_type": "display_data"
    }
   ],
   "source": [
    "ab_gs = run_model('ab', mod_params=ab_params, grid_search=True)"
   ]
  },
  {
   "cell_type": "markdown",
   "metadata": {},
   "source": [
    "#### Gradient Boosting Regression\n",
    "\n",
    "[Gradient Boosting Machine](https://machinelearningmastery.com/gradient-boosting-machine-ensemble-in-python/) is a powerful ensemble machine learning algorithm that uses decision trees for building predictive models.\n",
    "\n",
    "Gradient boosting is a generalization of AdaBoosting, improving the performance of the approach and introducing ideas from bootstrap aggregation to further improve the models, such as randomly sampling the samples and features when fitting ensemble members."
   ]
  },
  {
   "cell_type": "code",
   "execution_count": 28,
   "metadata": {},
   "outputs": [
    {
     "data": {
      "text/plain": [
       "{'memory': None,\n",
       " 'steps': [('gb', GradientBoostingRegressor())],\n",
       " 'verbose': False,\n",
       " 'gb': GradientBoostingRegressor(),\n",
       " 'gb__alpha': 0.9,\n",
       " 'gb__ccp_alpha': 0.0,\n",
       " 'gb__criterion': 'friedman_mse',\n",
       " 'gb__init': None,\n",
       " 'gb__learning_rate': 0.1,\n",
       " 'gb__loss': 'ls',\n",
       " 'gb__max_depth': 3,\n",
       " 'gb__max_features': None,\n",
       " 'gb__max_leaf_nodes': None,\n",
       " 'gb__min_impurity_decrease': 0.0,\n",
       " 'gb__min_impurity_split': None,\n",
       " 'gb__min_samples_leaf': 1,\n",
       " 'gb__min_samples_split': 2,\n",
       " 'gb__min_weight_fraction_leaf': 0.0,\n",
       " 'gb__n_estimators': 100,\n",
       " 'gb__n_iter_no_change': None,\n",
       " 'gb__presort': 'deprecated',\n",
       " 'gb__random_state': None,\n",
       " 'gb__subsample': 1.0,\n",
       " 'gb__tol': 0.0001,\n",
       " 'gb__validation_fraction': 0.1,\n",
       " 'gb__verbose': 0,\n",
       " 'gb__warm_start': False}"
      ]
     },
     "execution_count": 28,
     "metadata": {},
     "output_type": "execute_result"
    }
   ],
   "source": [
    "Pipeline([('gb', GradientBoostingRegressor())]).get_params()"
   ]
  },
  {
   "cell_type": "code",
   "execution_count": 29,
   "metadata": {},
   "outputs": [],
   "source": [
    "gb_params = {\n",
    "    'gb__alpha': [0.01, 0.05, 0.1],\n",
    "    'gb__learning_rate': [0.05, 0.1],\n",
    "    'gb__max_depth': [5, 7],\n",
    "    'gb__min_samples_leaf': [3],\n",
    "    'gb__n_estimators': [300, 500]\n",
    "            }"
   ]
  },
  {
   "cell_type": "code",
   "execution_count": 30,
   "metadata": {
    "scrolled": true
   },
   "outputs": [
    {
     "name": "stdout",
     "output_type": "stream",
     "text": [
      "Fitting 5 folds for each of 24 candidates, totalling 120 fits\n"
     ]
    },
    {
     "name": "stderr",
     "output_type": "stream",
     "text": [
      "[Parallel(n_jobs=-1)]: Using backend LokyBackend with 12 concurrent workers.\n",
      "[Parallel(n_jobs=-1)]: Done  26 tasks      | elapsed:  8.0min\n",
      "[Parallel(n_jobs=-1)]: Done 120 out of 120 | elapsed: 31.5min finished\n"
     ]
    },
    {
     "name": "stdout",
     "output_type": "stream",
     "text": [
      "### BEST PARAMS ###\n"
     ]
    },
    {
     "data": {
      "text/plain": [
       "Pipeline(steps=[('ss', StandardScaler()),\n",
       "                ('gb',\n",
       "                 GradientBoostingRegressor(alpha=0.01, max_depth=7,\n",
       "                                           min_samples_leaf=3, n_estimators=500,\n",
       "                                           random_state=42))])"
      ]
     },
     "metadata": {},
     "output_type": "display_data"
    },
    {
     "name": "stdout",
     "output_type": "stream",
     "text": [
      "### METRICS ###\n"
     ]
    },
    {
     "data": {
      "text/plain": [
       "{'model': 'gb',\n",
       " 'train R2': 0.9842,\n",
       " 'test R2': 0.9736,\n",
       " 'CV R2': 0.9722,\n",
       " 'train adj_R2': 0.9842,\n",
       " 'test adj_R2': 0.9735,\n",
       " 'CV adj_R2': 0.9722,\n",
       " 'train RMSE': 19409.74,\n",
       " 'test RMSE': 24818.49,\n",
       " 'CV RMSE': 25717.32}"
      ]
     },
     "metadata": {},
     "output_type": "display_data"
    }
   ],
   "source": [
    "gb_gs = run_model('gb', mod_params=gb_params, grid_search=True)"
   ]
  },
  {
   "cell_type": "markdown",
   "metadata": {},
   "source": [
    "#### XGBRegressor\n",
    "\n",
    "[XGBoost](https://xgboost.readthedocs.io/en/latest/) is an optimized distributed gradient boosting library designed to be highly efficient, flexible and portable. It implements machine learning algorithms under the Gradient Boosting framework. XGBoost provides a parallel tree boosting (also known as GBDT, GBM) that solve many data science problems in a fast and accurate way."
   ]
  },
  {
   "cell_type": "code",
   "execution_count": 31,
   "metadata": {},
   "outputs": [
    {
     "data": {
      "text/plain": [
       "{'memory': None,\n",
       " 'steps': [('xgb',\n",
       "   XGBRegressor(base_score=None, booster=None, colsample_bylevel=None,\n",
       "                colsample_bynode=None, colsample_bytree=None, gamma=None,\n",
       "                gpu_id=None, importance_type='gain', interaction_constraints=None,\n",
       "                learning_rate=None, max_delta_step=None, max_depth=None,\n",
       "                min_child_weight=None, missing=nan, monotone_constraints=None,\n",
       "                n_estimators=100, n_jobs=None, num_parallel_tree=None,\n",
       "                random_state=None, reg_alpha=None, reg_lambda=None,\n",
       "                scale_pos_weight=None, subsample=None, tree_method=None,\n",
       "                validate_parameters=None, verbosity=None))],\n",
       " 'verbose': False,\n",
       " 'xgb': XGBRegressor(base_score=None, booster=None, colsample_bylevel=None,\n",
       "              colsample_bynode=None, colsample_bytree=None, gamma=None,\n",
       "              gpu_id=None, importance_type='gain', interaction_constraints=None,\n",
       "              learning_rate=None, max_delta_step=None, max_depth=None,\n",
       "              min_child_weight=None, missing=nan, monotone_constraints=None,\n",
       "              n_estimators=100, n_jobs=None, num_parallel_tree=None,\n",
       "              random_state=None, reg_alpha=None, reg_lambda=None,\n",
       "              scale_pos_weight=None, subsample=None, tree_method=None,\n",
       "              validate_parameters=None, verbosity=None),\n",
       " 'xgb__objective': 'reg:squarederror',\n",
       " 'xgb__base_score': None,\n",
       " 'xgb__booster': None,\n",
       " 'xgb__colsample_bylevel': None,\n",
       " 'xgb__colsample_bynode': None,\n",
       " 'xgb__colsample_bytree': None,\n",
       " 'xgb__gamma': None,\n",
       " 'xgb__gpu_id': None,\n",
       " 'xgb__importance_type': 'gain',\n",
       " 'xgb__interaction_constraints': None,\n",
       " 'xgb__learning_rate': None,\n",
       " 'xgb__max_delta_step': None,\n",
       " 'xgb__max_depth': None,\n",
       " 'xgb__min_child_weight': None,\n",
       " 'xgb__missing': nan,\n",
       " 'xgb__monotone_constraints': None,\n",
       " 'xgb__n_estimators': 100,\n",
       " 'xgb__n_jobs': None,\n",
       " 'xgb__num_parallel_tree': None,\n",
       " 'xgb__random_state': None,\n",
       " 'xgb__reg_alpha': None,\n",
       " 'xgb__reg_lambda': None,\n",
       " 'xgb__scale_pos_weight': None,\n",
       " 'xgb__subsample': None,\n",
       " 'xgb__tree_method': None,\n",
       " 'xgb__validate_parameters': None,\n",
       " 'xgb__verbosity': None}"
      ]
     },
     "execution_count": 31,
     "metadata": {},
     "output_type": "execute_result"
    }
   ],
   "source": [
    "Pipeline([('xgb', XGBRegressor())]).get_params()"
   ]
  },
  {
   "cell_type": "code",
   "execution_count": 32,
   "metadata": {},
   "outputs": [],
   "source": [
    "xgb_params = {\n",
    "    'xgb__learning_rate': [0.05, 0.1],\n",
    "    'xgb__n_estimators': [600, 800],\n",
    "    'xgb__max_depth': [3, 5]\n",
    "            }"
   ]
  },
  {
   "cell_type": "code",
   "execution_count": 33,
   "metadata": {
    "scrolled": true
   },
   "outputs": [
    {
     "name": "stdout",
     "output_type": "stream",
     "text": [
      "Fitting 5 folds for each of 8 candidates, totalling 40 fits\n"
     ]
    },
    {
     "name": "stderr",
     "output_type": "stream",
     "text": [
      "[Parallel(n_jobs=-1)]: Using backend LokyBackend with 12 concurrent workers.\n",
      "[Parallel(n_jobs=-1)]: Done  40 out of  40 | elapsed:  4.8min finished\n"
     ]
    },
    {
     "name": "stdout",
     "output_type": "stream",
     "text": [
      "### BEST PARAMS ###\n"
     ]
    },
    {
     "data": {
      "text/plain": [
       "Pipeline(steps=[('ss', StandardScaler()),\n",
       "                ('xgb',\n",
       "                 XGBRegressor(base_score=0.5, booster='gbtree',\n",
       "                              colsample_bylevel=1, colsample_bynode=1,\n",
       "                              colsample_bytree=1, gamma=0, gpu_id=-1,\n",
       "                              importance_type='gain',\n",
       "                              interaction_constraints='', learning_rate=0.1,\n",
       "                              max_delta_step=0, max_depth=5, min_child_weight=1,\n",
       "                              missing=nan, monotone_constraints='()',\n",
       "                              n_estimators=800, n_jobs=12, num_parallel_tree=1,\n",
       "                              random_state=42, reg_alpha=0, reg_lambda=1,\n",
       "                              scale_pos_weight=1, subsample=1,\n",
       "                              tree_method='exact', validate_parameters=1,\n",
       "                              verbosity=None))])"
      ]
     },
     "metadata": {},
     "output_type": "display_data"
    },
    {
     "name": "stdout",
     "output_type": "stream",
     "text": [
      "### METRICS ###\n"
     ]
    },
    {
     "data": {
      "text/plain": [
       "{'model': 'xgb',\n",
       " 'train R2': 0.9787,\n",
       " 'test R2': 0.9718,\n",
       " 'CV R2': 0.971,\n",
       " 'train adj_R2': 0.9787,\n",
       " 'test adj_R2': 0.9718,\n",
       " 'CV adj_R2': 0.9709,\n",
       " 'train RMSE': 22502.36,\n",
       " 'test RMSE': 25623.23,\n",
       " 'CV RMSE': 26292.06}"
      ]
     },
     "metadata": {},
     "output_type": "display_data"
    }
   ],
   "source": [
    "xgb_gs = run_model('xgb', mod_params=xgb_params, grid_search=True)"
   ]
  },
  {
   "cell_type": "markdown",
   "metadata": {},
   "source": [
    "#### LGBMRegressor\n",
    "\n",
    "[Light GBM](https://medium.com/@pushkarmandot/https-medium-com-pushkarmandot-what-is-lightgbm-how-to-implement-it-how-to-fine-tune-the-parameters-60347819b7fc) is a gradient boosting framework that uses tree based learning algorithm. It grows tree vertically while other algorithm grows trees horizontally meaning that light GBM grows tree leaf-wise while other algorithm grows level-wise. It will choose the leaf with max delta loss to grow. When growing the same leaf, Leaf-wise algorithm can reduce more loss than a level-wise algorithm.\n",
    "\n",
    "The primary benefit of the LightGBM is the changes to the training algorithm that make the process dramatically faster, and in many cases, result in a more effective model."
   ]
  },
  {
   "cell_type": "code",
   "execution_count": 34,
   "metadata": {},
   "outputs": [
    {
     "data": {
      "text/plain": [
       "{'memory': None,\n",
       " 'steps': [('lg', LGBMRegressor())],\n",
       " 'verbose': False,\n",
       " 'lg': LGBMRegressor(),\n",
       " 'lg__boosting_type': 'gbdt',\n",
       " 'lg__class_weight': None,\n",
       " 'lg__colsample_bytree': 1.0,\n",
       " 'lg__importance_type': 'split',\n",
       " 'lg__learning_rate': 0.1,\n",
       " 'lg__max_depth': -1,\n",
       " 'lg__min_child_samples': 20,\n",
       " 'lg__min_child_weight': 0.001,\n",
       " 'lg__min_split_gain': 0.0,\n",
       " 'lg__n_estimators': 100,\n",
       " 'lg__n_jobs': -1,\n",
       " 'lg__num_leaves': 31,\n",
       " 'lg__objective': None,\n",
       " 'lg__random_state': None,\n",
       " 'lg__reg_alpha': 0.0,\n",
       " 'lg__reg_lambda': 0.0,\n",
       " 'lg__silent': True,\n",
       " 'lg__subsample': 1.0,\n",
       " 'lg__subsample_for_bin': 200000,\n",
       " 'lg__subsample_freq': 0}"
      ]
     },
     "execution_count": 34,
     "metadata": {},
     "output_type": "execute_result"
    }
   ],
   "source": [
    "Pipeline([('lg', lgb.LGBMRegressor())]).get_params()"
   ]
  },
  {
   "cell_type": "code",
   "execution_count": 35,
   "metadata": {},
   "outputs": [],
   "source": [
    "lg_params = {\n",
    "    'lg__boosting_type': ['dart', 'rf', 'gbdt', 'goss'],\n",
    "    'lg__learning_rate': [0.05, 0.1],\n",
    "    'lg__n_estimators': [300, 500],\n",
    "    'lg__objective': ['regression']\n",
    "            }"
   ]
  },
  {
   "cell_type": "code",
   "execution_count": 36,
   "metadata": {},
   "outputs": [
    {
     "name": "stdout",
     "output_type": "stream",
     "text": [
      "Fitting 5 folds for each of 16 candidates, totalling 80 fits\n"
     ]
    },
    {
     "name": "stderr",
     "output_type": "stream",
     "text": [
      "[Parallel(n_jobs=-1)]: Using backend LokyBackend with 12 concurrent workers.\n",
      "[Parallel(n_jobs=-1)]: Done  26 tasks      | elapsed:  1.3min\n",
      "[Parallel(n_jobs=-1)]: Done  80 out of  80 | elapsed:  2.6min finished\n"
     ]
    },
    {
     "name": "stdout",
     "output_type": "stream",
     "text": [
      "### BEST PARAMS ###\n"
     ]
    },
    {
     "data": {
      "text/plain": [
       "Pipeline(steps=[('ss', StandardScaler()),\n",
       "                ('lg',\n",
       "                 LGBMRegressor(n_estimators=500, objective='regression',\n",
       "                               random_state=42))])"
      ]
     },
     "metadata": {},
     "output_type": "display_data"
    },
    {
     "name": "stdout",
     "output_type": "stream",
     "text": [
      "### METRICS ###\n"
     ]
    },
    {
     "data": {
      "text/plain": [
       "{'model': 'lg',\n",
       " 'train R2': 0.9783,\n",
       " 'test R2': 0.9718,\n",
       " 'CV R2': 0.971,\n",
       " 'train adj_R2': 0.9783,\n",
       " 'test adj_R2': 0.9717,\n",
       " 'CV adj_R2': 0.971,\n",
       " 'train RMSE': 22741.02,\n",
       " 'test RMSE': 25643.12,\n",
       " 'CV RMSE': 26251.34}"
      ]
     },
     "metadata": {},
     "output_type": "display_data"
    }
   ],
   "source": [
    "lg_gs = run_model('lg', mod_params=lg_params, grid_search=True)"
   ]
  },
  {
   "cell_type": "markdown",
   "metadata": {},
   "source": [
    "#### KNeighborsRegressor\n",
    "\n",
    "[K nearest neighbors](https://medium.com/analytics-vidhya/k-neighbors-regression-analysis-in-python-61532d56d8e4) is a simple algorithm that stores all available cases and predict the numerical target based on a similarity measure (e.g., distance functions). KNN has been used in statistical estimation and pattern recognition already in the beginning of 1970’s as a non-parametric technique. Algorithm A simple implementation of KNN regression is to calculate the average of the numerical target of the K nearest neighbors. Another approach uses an inverse distance weighted average of the K nearest neighbors. KNN regression uses the same distance functions as KNN classification."
   ]
  },
  {
   "cell_type": "code",
   "execution_count": 37,
   "metadata": {},
   "outputs": [
    {
     "data": {
      "text/plain": [
       "{'memory': None,\n",
       " 'steps': [('knr', KNeighborsRegressor())],\n",
       " 'verbose': False,\n",
       " 'knr': KNeighborsRegressor(),\n",
       " 'knr__algorithm': 'auto',\n",
       " 'knr__leaf_size': 30,\n",
       " 'knr__metric': 'minkowski',\n",
       " 'knr__metric_params': None,\n",
       " 'knr__n_jobs': None,\n",
       " 'knr__n_neighbors': 5,\n",
       " 'knr__p': 2,\n",
       " 'knr__weights': 'uniform'}"
      ]
     },
     "execution_count": 37,
     "metadata": {},
     "output_type": "execute_result"
    }
   ],
   "source": [
    "Pipeline([('knr', KNeighborsRegressor())]).get_params()"
   ]
  },
  {
   "cell_type": "code",
   "execution_count": 38,
   "metadata": {},
   "outputs": [],
   "source": [
    "knr_params = {\n",
    "    'knr__n_neighbors': [3, 4, 5],\n",
    "    'knr__weights': ['uniform', 'distance'],\n",
    "             }"
   ]
  },
  {
   "cell_type": "code",
   "execution_count": 39,
   "metadata": {},
   "outputs": [
    {
     "name": "stdout",
     "output_type": "stream",
     "text": [
      "Fitting 5 folds for each of 6 candidates, totalling 30 fits\n"
     ]
    },
    {
     "name": "stderr",
     "output_type": "stream",
     "text": [
      "[Parallel(n_jobs=-1)]: Using backend LokyBackend with 12 concurrent workers.\n",
      "[Parallel(n_jobs=-1)]: Done  30 out of  30 | elapsed:  7.8min finished\n"
     ]
    },
    {
     "name": "stdout",
     "output_type": "stream",
     "text": [
      "### BEST PARAMS ###\n"
     ]
    },
    {
     "data": {
      "text/plain": [
       "Pipeline(steps=[('ss', StandardScaler()),\n",
       "                ('knr', KNeighborsRegressor(weights='distance'))])"
      ]
     },
     "metadata": {},
     "output_type": "display_data"
    },
    {
     "name": "stdout",
     "output_type": "stream",
     "text": [
      "### METRICS ###\n"
     ]
    },
    {
     "data": {
      "text/plain": [
       "{'model': 'knr',\n",
       " 'train R2': 0.9981,\n",
       " 'test R2': 0.9634,\n",
       " 'CV R2': 0.9602,\n",
       " 'train adj_R2': 0.9981,\n",
       " 'test adj_R2': 0.9633,\n",
       " 'CV adj_R2': 0.9601,\n",
       " 'train RMSE': 6752.81,\n",
       " 'test RMSE': 29211.21,\n",
       " 'CV RMSE': 30788.05}"
      ]
     },
     "metadata": {},
     "output_type": "display_data"
    }
   ],
   "source": [
    "knr_gs = run_model('knr', mod_params=knr_params, grid_search=True)"
   ]
  },
  {
   "cell_type": "markdown",
   "metadata": {},
   "source": [
    "#### Support Vector Regression\n",
    "\n",
    "[Support vector machine](https://towardsdatascience.com/support-vector-machine-introduction-to-machine-learning-algorithms-934a444fca47) is another simple algorithm that every machine learning expert should have in his/her arsenal. Support vector machine is highly preferred by many as it produces significant accuracy with less computation power. Support Vector Machine, abbreviated as SVM can be used for both regression and classification tasks. But, it is widely used in classification objectives.\n",
    "\n",
    "The objective of the support vector machine algorithm is to find a hyperplane in an N-dimensional space(N — the number of features) that distinctly classifies the data points."
   ]
  },
  {
   "cell_type": "code",
   "execution_count": 40,
   "metadata": {},
   "outputs": [
    {
     "data": {
      "text/plain": [
       "{'memory': None,\n",
       " 'steps': [('svr', SVR())],\n",
       " 'verbose': False,\n",
       " 'svr': SVR(),\n",
       " 'svr__C': 1.0,\n",
       " 'svr__cache_size': 200,\n",
       " 'svr__coef0': 0.0,\n",
       " 'svr__degree': 3,\n",
       " 'svr__epsilon': 0.1,\n",
       " 'svr__gamma': 'scale',\n",
       " 'svr__kernel': 'rbf',\n",
       " 'svr__max_iter': -1,\n",
       " 'svr__shrinking': True,\n",
       " 'svr__tol': 0.001,\n",
       " 'svr__verbose': False}"
      ]
     },
     "execution_count": 40,
     "metadata": {},
     "output_type": "execute_result"
    }
   ],
   "source": [
    "Pipeline([('svr', SVR())]).get_params()"
   ]
  },
  {
   "cell_type": "code",
   "execution_count": 41,
   "metadata": {},
   "outputs": [],
   "source": [
    "svr_params = {\n",
    "    'svr__C': [60, 80, 100],\n",
    "    'svr__degree': [1, 2],\n",
    "    'svr__kernel': ['linear']\n",
    "            }"
   ]
  },
  {
   "cell_type": "code",
   "execution_count": 42,
   "metadata": {
    "scrolled": true
   },
   "outputs": [
    {
     "name": "stdout",
     "output_type": "stream",
     "text": [
      "Fitting 5 folds for each of 6 candidates, totalling 30 fits\n"
     ]
    },
    {
     "name": "stderr",
     "output_type": "stream",
     "text": [
      "[Parallel(n_jobs=-1)]: Using backend LokyBackend with 12 concurrent workers.\n",
      "[Parallel(n_jobs=-1)]: Done  30 out of  30 | elapsed: 45.4min finished\n"
     ]
    },
    {
     "name": "stdout",
     "output_type": "stream",
     "text": [
      "### BEST PARAMS ###\n"
     ]
    },
    {
     "data": {
      "text/plain": [
       "Pipeline(steps=[('ss', StandardScaler()),\n",
       "                ('svr', SVR(C=100, degree=1, kernel='linear'))])"
      ]
     },
     "metadata": {},
     "output_type": "display_data"
    },
    {
     "name": "stdout",
     "output_type": "stream",
     "text": [
      "### METRICS ###\n"
     ]
    },
    {
     "data": {
      "text/plain": [
       "{'model': 'svr',\n",
       " 'train R2': 0.8853,\n",
       " 'test R2': 0.884,\n",
       " 'CV R2': 0.8844,\n",
       " 'train adj_R2': 0.8852,\n",
       " 'test adj_R2': 0.8837,\n",
       " 'CV adj_R2': 0.8843,\n",
       " 'train RMSE': 52266.67,\n",
       " 'test RMSE': 52004.18,\n",
       " 'CV RMSE': 52457.36}"
      ]
     },
     "metadata": {},
     "output_type": "display_data"
    }
   ],
   "source": [
    "svr_gs = run_model('svr', mod_params=svr_params, grid_search=True)"
   ]
  },
  {
   "cell_type": "markdown",
   "metadata": {},
   "source": [
    "### Results"
   ]
  },
  {
   "cell_type": "code",
   "execution_count": 43,
   "metadata": {},
   "outputs": [
    {
     "data": {
      "text/html": [
       "<div>\n",
       "<style scoped>\n",
       "    .dataframe tbody tr th:only-of-type {\n",
       "        vertical-align: middle;\n",
       "    }\n",
       "\n",
       "    .dataframe tbody tr th {\n",
       "        vertical-align: top;\n",
       "    }\n",
       "\n",
       "    .dataframe thead th {\n",
       "        text-align: right;\n",
       "    }\n",
       "</style>\n",
       "<table border=\"1\" class=\"dataframe\">\n",
       "  <thead>\n",
       "    <tr style=\"text-align: right;\">\n",
       "      <th></th>\n",
       "      <th>model</th>\n",
       "      <th>train R2</th>\n",
       "      <th>test R2</th>\n",
       "      <th>CV R2</th>\n",
       "      <th>train adj_R2</th>\n",
       "      <th>test adj_R2</th>\n",
       "      <th>CV adj_R2</th>\n",
       "      <th>train RMSE</th>\n",
       "      <th>test RMSE</th>\n",
       "      <th>CV RMSE</th>\n",
       "    </tr>\n",
       "  </thead>\n",
       "  <tbody>\n",
       "    <tr>\n",
       "      <th>7</th>\n",
       "      <td>gb</td>\n",
       "      <td>0.9842</td>\n",
       "      <td>0.9736</td>\n",
       "      <td>0.9722</td>\n",
       "      <td>0.9842</td>\n",
       "      <td>0.9735</td>\n",
       "      <td>0.9722</td>\n",
       "      <td>19409.74</td>\n",
       "      <td>24818.49</td>\n",
       "      <td>25717.32</td>\n",
       "    </tr>\n",
       "    <tr>\n",
       "      <th>4</th>\n",
       "      <td>et</td>\n",
       "      <td>0.9889</td>\n",
       "      <td>0.9733</td>\n",
       "      <td>0.9715</td>\n",
       "      <td>0.9889</td>\n",
       "      <td>0.9733</td>\n",
       "      <td>0.9715</td>\n",
       "      <td>16254.23</td>\n",
       "      <td>24933.78</td>\n",
       "      <td>26051.45</td>\n",
       "    </tr>\n",
       "    <tr>\n",
       "      <th>8</th>\n",
       "      <td>xgb</td>\n",
       "      <td>0.9787</td>\n",
       "      <td>0.9718</td>\n",
       "      <td>0.9710</td>\n",
       "      <td>0.9787</td>\n",
       "      <td>0.9718</td>\n",
       "      <td>0.9709</td>\n",
       "      <td>22502.36</td>\n",
       "      <td>25623.23</td>\n",
       "      <td>26292.06</td>\n",
       "    </tr>\n",
       "    <tr>\n",
       "      <th>9</th>\n",
       "      <td>lg</td>\n",
       "      <td>0.9783</td>\n",
       "      <td>0.9718</td>\n",
       "      <td>0.9710</td>\n",
       "      <td>0.9783</td>\n",
       "      <td>0.9717</td>\n",
       "      <td>0.9710</td>\n",
       "      <td>22741.02</td>\n",
       "      <td>25643.12</td>\n",
       "      <td>26251.34</td>\n",
       "    </tr>\n",
       "    <tr>\n",
       "      <th>6</th>\n",
       "      <td>ab</td>\n",
       "      <td>0.9920</td>\n",
       "      <td>0.9709</td>\n",
       "      <td>0.9689</td>\n",
       "      <td>0.9920</td>\n",
       "      <td>0.9709</td>\n",
       "      <td>0.9689</td>\n",
       "      <td>13801.33</td>\n",
       "      <td>26036.03</td>\n",
       "      <td>27205.50</td>\n",
       "    </tr>\n",
       "    <tr>\n",
       "      <th>5</th>\n",
       "      <td>rf</td>\n",
       "      <td>0.9877</td>\n",
       "      <td>0.9708</td>\n",
       "      <td>0.9684</td>\n",
       "      <td>0.9877</td>\n",
       "      <td>0.9707</td>\n",
       "      <td>0.9684</td>\n",
       "      <td>17086.25</td>\n",
       "      <td>26095.85</td>\n",
       "      <td>27414.71</td>\n",
       "    </tr>\n",
       "    <tr>\n",
       "      <th>10</th>\n",
       "      <td>knr</td>\n",
       "      <td>0.9981</td>\n",
       "      <td>0.9634</td>\n",
       "      <td>0.9602</td>\n",
       "      <td>0.9981</td>\n",
       "      <td>0.9633</td>\n",
       "      <td>0.9601</td>\n",
       "      <td>6752.81</td>\n",
       "      <td>29211.21</td>\n",
       "      <td>30788.05</td>\n",
       "    </tr>\n",
       "    <tr>\n",
       "      <th>3</th>\n",
       "      <td>dt</td>\n",
       "      <td>0.9846</td>\n",
       "      <td>0.9561</td>\n",
       "      <td>0.9507</td>\n",
       "      <td>0.9845</td>\n",
       "      <td>0.9561</td>\n",
       "      <td>0.9506</td>\n",
       "      <td>19180.00</td>\n",
       "      <td>31967.72</td>\n",
       "      <td>34255.59</td>\n",
       "    </tr>\n",
       "    <tr>\n",
       "      <th>1</th>\n",
       "      <td>rd</td>\n",
       "      <td>0.8922</td>\n",
       "      <td>0.8903</td>\n",
       "      <td>0.8919</td>\n",
       "      <td>0.8921</td>\n",
       "      <td>0.8901</td>\n",
       "      <td>0.8918</td>\n",
       "      <td>50676.89</td>\n",
       "      <td>50569.41</td>\n",
       "      <td>50733.86</td>\n",
       "    </tr>\n",
       "    <tr>\n",
       "      <th>0</th>\n",
       "      <td>lr</td>\n",
       "      <td>0.8922</td>\n",
       "      <td>0.8903</td>\n",
       "      <td>0.8919</td>\n",
       "      <td>0.8921</td>\n",
       "      <td>0.8901</td>\n",
       "      <td>0.8918</td>\n",
       "      <td>50676.87</td>\n",
       "      <td>50569.51</td>\n",
       "      <td>50733.88</td>\n",
       "    </tr>\n",
       "    <tr>\n",
       "      <th>2</th>\n",
       "      <td>ls</td>\n",
       "      <td>0.8918</td>\n",
       "      <td>0.8899</td>\n",
       "      <td>0.8915</td>\n",
       "      <td>0.8917</td>\n",
       "      <td>0.8897</td>\n",
       "      <td>0.8914</td>\n",
       "      <td>50761.81</td>\n",
       "      <td>50648.79</td>\n",
       "      <td>50815.99</td>\n",
       "    </tr>\n",
       "    <tr>\n",
       "      <th>11</th>\n",
       "      <td>svr</td>\n",
       "      <td>0.8853</td>\n",
       "      <td>0.8840</td>\n",
       "      <td>0.8844</td>\n",
       "      <td>0.8852</td>\n",
       "      <td>0.8837</td>\n",
       "      <td>0.8843</td>\n",
       "      <td>52266.67</td>\n",
       "      <td>52004.18</td>\n",
       "      <td>52457.36</td>\n",
       "    </tr>\n",
       "  </tbody>\n",
       "</table>\n",
       "</div>"
      ],
      "text/plain": [
       "   model  train R2  test R2   CV R2  train adj_R2  test adj_R2  CV adj_R2  \\\n",
       "7     gb    0.9842   0.9736  0.9722        0.9842       0.9735     0.9722   \n",
       "4     et    0.9889   0.9733  0.9715        0.9889       0.9733     0.9715   \n",
       "8    xgb    0.9787   0.9718  0.9710        0.9787       0.9718     0.9709   \n",
       "9     lg    0.9783   0.9718  0.9710        0.9783       0.9717     0.9710   \n",
       "6     ab    0.9920   0.9709  0.9689        0.9920       0.9709     0.9689   \n",
       "5     rf    0.9877   0.9708  0.9684        0.9877       0.9707     0.9684   \n",
       "10   knr    0.9981   0.9634  0.9602        0.9981       0.9633     0.9601   \n",
       "3     dt    0.9846   0.9561  0.9507        0.9845       0.9561     0.9506   \n",
       "1     rd    0.8922   0.8903  0.8919        0.8921       0.8901     0.8918   \n",
       "0     lr    0.8922   0.8903  0.8919        0.8921       0.8901     0.8918   \n",
       "2     ls    0.8918   0.8899  0.8915        0.8917       0.8897     0.8914   \n",
       "11   svr    0.8853   0.8840  0.8844        0.8852       0.8837     0.8843   \n",
       "\n",
       "    train RMSE  test RMSE   CV RMSE  \n",
       "7     19409.74   24818.49  25717.32  \n",
       "4     16254.23   24933.78  26051.45  \n",
       "8     22502.36   25623.23  26292.06  \n",
       "9     22741.02   25643.12  26251.34  \n",
       "6     13801.33   26036.03  27205.50  \n",
       "5     17086.25   26095.85  27414.71  \n",
       "10     6752.81   29211.21  30788.05  \n",
       "3     19180.00   31967.72  34255.59  \n",
       "1     50676.89   50569.41  50733.86  \n",
       "0     50676.87   50569.51  50733.88  \n",
       "2     50761.81   50648.79  50815.99  \n",
       "11    52266.67   52004.18  52457.36  "
      ]
     },
     "execution_count": 43,
     "metadata": {},
     "output_type": "execute_result"
    }
   ],
   "source": [
    "gs_df = pd.DataFrame(gs_list)\n",
    "gs_df.sort_values(by='test RMSE', ascending=True)"
   ]
  },
  {
   "cell_type": "markdown",
   "metadata": {},
   "source": [
    "Based on the table above, __Gradient Boosting Regression__ model is the most suitable regression machine learning model for the prediction because:\n",
    "1. It generates the lowest test RMSE,\n",
    "2. The model is not overfitted because the difference between train R-squared (0.9842) the test R-squared (0.9736) is 0.0106 only.\n",
    "\n",
    "Beside, we should consider other regression machine learning model such as Extra Trees Regression and XGBRegressor that able to generate good result comparable to Gradient Boosting Regression model.\n",
    "\n",
    "We will now look into the feature important list that contribute the most to the `resale_price` prediction using Gradient Boosting Regression model."
   ]
  },
  {
   "cell_type": "code",
   "execution_count": 44,
   "metadata": {},
   "outputs": [
    {
     "data": {
      "text/html": [
       "<div>\n",
       "<style scoped>\n",
       "    .dataframe tbody tr th:only-of-type {\n",
       "        vertical-align: middle;\n",
       "    }\n",
       "\n",
       "    .dataframe tbody tr th {\n",
       "        vertical-align: top;\n",
       "    }\n",
       "\n",
       "    .dataframe thead th {\n",
       "        text-align: right;\n",
       "    }\n",
       "</style>\n",
       "<table border=\"1\" class=\"dataframe\">\n",
       "  <thead>\n",
       "    <tr style=\"text-align: right;\">\n",
       "      <th></th>\n",
       "      <th>Importance</th>\n",
       "    </tr>\n",
       "  </thead>\n",
       "  <tbody>\n",
       "    <tr>\n",
       "      <th>floor_area_sqm</th>\n",
       "      <td>0.432927</td>\n",
       "    </tr>\n",
       "    <tr>\n",
       "      <th>dist_to_city</th>\n",
       "      <td>0.290562</td>\n",
       "    </tr>\n",
       "    <tr>\n",
       "      <th>remaining_year</th>\n",
       "      <td>0.085162</td>\n",
       "    </tr>\n",
       "    <tr>\n",
       "      <th>mean_floor</th>\n",
       "      <td>0.039359</td>\n",
       "    </tr>\n",
       "    <tr>\n",
       "      <th>dist_to_pri_sch</th>\n",
       "      <td>0.019020</td>\n",
       "    </tr>\n",
       "    <tr>\n",
       "      <th>flat_type_4 ROOM</th>\n",
       "      <td>0.018119</td>\n",
       "    </tr>\n",
       "    <tr>\n",
       "      <th>dist_to_mrt</th>\n",
       "      <td>0.017185</td>\n",
       "    </tr>\n",
       "    <tr>\n",
       "      <th>dist_to_hawker</th>\n",
       "      <td>0.014035</td>\n",
       "    </tr>\n",
       "    <tr>\n",
       "      <th>dist_to_mall</th>\n",
       "      <td>0.011980</td>\n",
       "    </tr>\n",
       "    <tr>\n",
       "      <th>flat_model_DBSS</th>\n",
       "      <td>0.010594</td>\n",
       "    </tr>\n",
       "  </tbody>\n",
       "</table>\n",
       "</div>"
      ],
      "text/plain": [
       "                  Importance\n",
       "floor_area_sqm      0.432927\n",
       "dist_to_city        0.290562\n",
       "remaining_year      0.085162\n",
       "mean_floor          0.039359\n",
       "dist_to_pri_sch     0.019020\n",
       "flat_type_4 ROOM    0.018119\n",
       "dist_to_mrt         0.017185\n",
       "dist_to_hawker      0.014035\n",
       "dist_to_mall        0.011980\n",
       "flat_model_DBSS     0.010594"
      ]
     },
     "execution_count": 44,
     "metadata": {},
     "output_type": "execute_result"
    }
   ],
   "source": [
    "# List of feature_importances_ by Gradient Boosting Regression\n",
    "feat_imp = pd.DataFrame(gb_gs.steps[1][1].feature_importances_, index=X_train.columns, columns=['Importance']).sort_values('Importance', ascending=False)\n",
    "feat_imp.head(10)"
   ]
  },
  {
   "cell_type": "code",
   "execution_count": 45,
   "metadata": {},
   "outputs": [
    {
     "data": {
      "image/png": "[encoded data removed]",
      "text/plain": [
       "<Figure size 1440x1080 with 1 Axes>"
      ]
     },
     "metadata": {
      "needs_background": "light"
     },
     "output_type": "display_data"
    }
   ],
   "source": [
    "feature_importance = gb_gs.steps[1][1].feature_importances_\n",
    "sorted_idx = np.argsort(feature_importance)\n",
    "pos = np.arange(sorted_idx.shape[0])\n",
    "fig = plt.figure(figsize=(20, 15))\n",
    "plt.subplot(1, 2, 1)\n",
    "plt.barh(pos, feature_importance[sorted_idx], align='center', color='darkorange')\n",
    "plt.yticks(pos, np.array(X_train.columns)[sorted_idx], fontsize = 13)\n",
    "plt.title('Feature Importance', fontsize = 20);"
   ]
  },
  {
   "cell_type": "markdown",
   "metadata": {},
   "source": [
    "### Refit model to HDB Data"
   ]
  },
  {
   "cell_type": "code",
   "execution_count": 48,
   "metadata": {},
   "outputs": [
    {
     "name": "stdout",
     "output_type": "stream",
     "text": [
      "Fitting 5 folds for each of 16 candidates, totalling 80 fits\n"
     ]
    },
    {
     "name": "stderr",
     "output_type": "stream",
     "text": [
      "[Parallel(n_jobs=-1)]: Using backend LokyBackend with 12 concurrent workers.\n",
      "[Parallel(n_jobs=-1)]: Done  26 tasks      | elapsed: 20.0min\n",
      "[Parallel(n_jobs=-1)]: Done  80 out of  80 | elapsed: 48.4min finished\n"
     ]
    },
    {
     "data": {
      "text/plain": [
       "Pipeline(steps=[('ss', StandardScaler()),\n",
       "                ('gb',\n",
       "                 GradientBoostingRegressor(alpha=0.005, learning_rate=0.2,\n",
       "                                           max_depth=7, min_samples_leaf=3,\n",
       "                                           n_estimators=500,\n",
       "                                           random_state=42))])"
      ]
     },
     "execution_count": 48,
     "metadata": {},
     "output_type": "execute_result"
    }
   ],
   "source": [
    "# instantiate TfidfVectorizer and MultinomialNB pipeline\n",
    "pipe_gb = Pipeline([('ss', StandardScaler()),\n",
    "                    ('gb', GradientBoostingRegressor(random_state=42))])\n",
    "\n",
    "# Define dictionary of hyperparameters\n",
    "pipe_params_gb = {'gb__alpha': [0.005, 0.01],\n",
    "                  'gb__learning_rate': [0.2, 0.25],\n",
    "                  'gb__max_depth': [5, 7],\n",
    "                  'gb__min_samples_leaf': [3],\n",
    "                  'gb__n_estimators': [500, 700]\n",
    "                  }\n",
    "\n",
    "# Instantiate GridSearchCV.\n",
    "gs_gb = GridSearchCV(pipe_gb, param_grid=pipe_params_gb, cv=5, verbose=1, scoring='r2', n_jobs=-1)\n",
    "\n",
    "# fit to X_train_clean1, y_train\n",
    "gs_gb.fit(X, y)\n",
    "\n",
    "# find the best estimator\n",
    "gs_gb_model = gs_gb.best_estimator_\n",
    "gs_gb_model"
   ]
  },
  {
   "cell_type": "code",
   "execution_count": 49,
   "metadata": {},
   "outputs": [
    {
     "name": "stdout",
     "output_type": "stream",
     "text": [
      "HDB Data R2: 0.9866\n",
      "CV R2: 0.9686\n",
      "HDB Data adj_R2: 0.9866\n",
      "CV adj_R2: 0.9686\n",
      "HDB RMSE: 17815.11\n",
      "CV RMSE: 27102.18\n"
     ]
    }
   ],
   "source": [
    "print(f'HDB Data R2: {round(gs_gb_model.score(X, y), 4)}')\n",
    "print(f'CV R2: {round((cross_val_score(gs_gb_model, X, y, cv=5)).mean(), 4)}')\n",
    "print(f'HDB Data adj_R2: {round((1 - (1 - gs_gb_model.score(X, y)) * ((X.shape[0] - 1) / (X.shape[0] - X.shape[1] - 1))), 4)}')\n",
    "print(f'CV adj_R2: {round((1 - (1 - (cross_val_score(gs_gb_model, X, y, cv=5)).mean()) * ((X.shape[0] - 1) / (X.shape[0] - X.shape[1] - 1))), 4)}')\n",
    "print(f'HDB RMSE: {round(np.sqrt(mean_squared_error(y, gs_gb_model.predict(X))), 2)}')\n",
    "print(f'CV RMSE: {round(-cross_val_score(gs_gb_model, X, y, cv=5, scoring=\"neg_root_mean_squared_error\").mean(), 2)}')"
   ]
  },
  {
   "cell_type": "code",
   "execution_count": 50,
   "metadata": {},
   "outputs": [
    {
     "data": {
      "image/png": "[encoded data removed]",
      "text/plain": [
       "<Figure size 864x648 with 1 Axes>"
      ]
     },
     "metadata": {
      "needs_background": "light"
     },
     "output_type": "display_data"
    }
   ],
   "source": [
    "# Plot the model\n",
    "plt.figure(figsize=(12,9))\n",
    "\n",
    "# Generate a scatterplot of predicted values versus actual values.\n",
    "plt.scatter(gs_gb_model.predict(X), y, s=5, color='darkorange')\n",
    "\n",
    "# Plot a line.\n",
    "plt.plot([0, np.max(y)],\n",
    "         [0, np.max(y)],\n",
    "         color = 'blue')\n",
    "\n",
    "# Tweak title and axis labels.\n",
    "plt.xlabel(\"Predicted Values: $\\hat{y}$\", fontsize = 20)\n",
    "plt.ylabel(\"Actual Values: $y$\", fontsize = 20)\n",
    "plt.title('Predicted Values vs. Actual Values', fontsize = 24);"
   ]
  },
  {
   "cell_type": "markdown",
   "metadata": {},
   "source": [
    "Majority of the points are fill around the diagonal line, this means that on average our residuals are reasonable small which is a good fit."
   ]
  },
  {
   "cell_type": "markdown",
   "metadata": {},
   "source": [
    "### Feature Importances"
   ]
  },
  {
   "cell_type": "code",
   "execution_count": 51,
   "metadata": {},
   "outputs": [],
   "source": [
    "# Refit best parameters on HDB data\n",
    "final_model = gs_gb_model.fit(X, y)"
   ]
  },
  {
   "cell_type": "code",
   "execution_count": 52,
   "metadata": {},
   "outputs": [
    {
     "data": {
      "text/html": [
       "<div>\n",
       "<style scoped>\n",
       "    .dataframe tbody tr th:only-of-type {\n",
       "        vertical-align: middle;\n",
       "    }\n",
       "\n",
       "    .dataframe tbody tr th {\n",
       "        vertical-align: top;\n",
       "    }\n",
       "\n",
       "    .dataframe thead th {\n",
       "        text-align: right;\n",
       "    }\n",
       "</style>\n",
       "<table border=\"1\" class=\"dataframe\">\n",
       "  <thead>\n",
       "    <tr style=\"text-align: right;\">\n",
       "      <th></th>\n",
       "      <th>Importance</th>\n",
       "    </tr>\n",
       "  </thead>\n",
       "  <tbody>\n",
       "    <tr>\n",
       "      <th>floor_area_sqm</th>\n",
       "      <td>0.442781</td>\n",
       "    </tr>\n",
       "    <tr>\n",
       "      <th>dist_to_city</th>\n",
       "      <td>0.284070</td>\n",
       "    </tr>\n",
       "    <tr>\n",
       "      <th>remaining_year</th>\n",
       "      <td>0.085102</td>\n",
       "    </tr>\n",
       "    <tr>\n",
       "      <th>mean_floor</th>\n",
       "      <td>0.038683</td>\n",
       "    </tr>\n",
       "    <tr>\n",
       "      <th>dist_to_pri_sch</th>\n",
       "      <td>0.020156</td>\n",
       "    </tr>\n",
       "    <tr>\n",
       "      <th>dist_to_mrt</th>\n",
       "      <td>0.017810</td>\n",
       "    </tr>\n",
       "    <tr>\n",
       "      <th>dist_to_hawker</th>\n",
       "      <td>0.013576</td>\n",
       "    </tr>\n",
       "    <tr>\n",
       "      <th>dist_to_mall</th>\n",
       "      <td>0.012108</td>\n",
       "    </tr>\n",
       "    <tr>\n",
       "      <th>flat_type_4 ROOM</th>\n",
       "      <td>0.012104</td>\n",
       "    </tr>\n",
       "    <tr>\n",
       "      <th>flat_model_DBSS</th>\n",
       "      <td>0.009916</td>\n",
       "    </tr>\n",
       "  </tbody>\n",
       "</table>\n",
       "</div>"
      ],
      "text/plain": [
       "                  Importance\n",
       "floor_area_sqm      0.442781\n",
       "dist_to_city        0.284070\n",
       "remaining_year      0.085102\n",
       "mean_floor          0.038683\n",
       "dist_to_pri_sch     0.020156\n",
       "dist_to_mrt         0.017810\n",
       "dist_to_hawker      0.013576\n",
       "dist_to_mall        0.012108\n",
       "flat_type_4 ROOM    0.012104\n",
       "flat_model_DBSS     0.009916"
      ]
     },
     "execution_count": 52,
     "metadata": {},
     "output_type": "execute_result"
    }
   ],
   "source": [
    "# List of feature_importances_ by Gradient Boosting Regression\n",
    "feat_imp = pd.DataFrame(final_model.steps[1][1].feature_importances_, index=X.columns, columns=['Importance']).sort_values('Importance', ascending=False)\n",
    "feat_imp.head(10)"
   ]
  },
  {
   "cell_type": "code",
   "execution_count": 53,
   "metadata": {},
   "outputs": [
    {
     "data": {
      "image/png": "[encoded data removed]",
      "text/plain": [
       "<Figure size 1440x1080 with 1 Axes>"
      ]
     },
     "metadata": {
      "needs_background": "light"
     },
     "output_type": "display_data"
    }
   ],
   "source": [
    "feature_importance = gs_gb_model.steps[1][1].feature_importances_\n",
    "sorted_idx = np.argsort(feature_importance)\n",
    "pos = np.arange(sorted_idx.shape[0])\n",
    "fig = plt.figure(figsize=(20, 15))\n",
    "plt.subplot(1, 2, 1)\n",
    "plt.barh(pos, feature_importance[sorted_idx], align='center', color='darkorange')\n",
    "plt.yticks(pos, np.array(X.columns)[sorted_idx], fontsize = 13)\n",
    "plt.title('Feature Importance', fontsize = 20);"
   ]
  },
  {
   "cell_type": "code",
   "execution_count": 54,
   "metadata": {},
   "outputs": [],
   "source": [
    "# save the model to disk\n",
    "# pkl_filename = 'finalized_model.pkl'\n",
    "# pickle.dump(gs_gb_model, open(pkl_filename, 'wb'))"
   ]
  },
  {
   "cell_type": "code",
   "execution_count": 60,
   "metadata": {
    "code_folding": []
   },
   "outputs": [],
   "source": [
    "# load the model from disk\n",
    "pickle_model = pickle.load(open('finalized_model.pkl', 'rb'))"
   ]
  },
  {
   "cell_type": "code",
   "execution_count": 56,
   "metadata": {},
   "outputs": [],
   "source": [
    "hdb = pd.read_csv('dataset/hdb_17_final_features.csv')"
   ]
  },
  {
   "cell_type": "code",
   "execution_count": 57,
   "metadata": {},
   "outputs": [],
   "source": [
    "X = hdb.drop(columns=['resale_price'])\n",
    "y = hdb['resale_price']"
   ]
  },
  {
   "cell_type": "code",
   "execution_count": 58,
   "metadata": {},
   "outputs": [],
   "source": [
    "X_train, X_test, y_train, y_test = train_test_split(X, y, test_size=0.3, random_state=42)"
   ]
  },
  {
   "cell_type": "code",
   "execution_count": 59,
   "metadata": {},
   "outputs": [
    {
     "name": "stdout",
     "output_type": "stream",
     "text": [
      "HDB Data R2: 0.9824\n"
     ]
    }
   ],
   "source": [
    "print(f'HDB Data R2: {round(pickle_model.score(X, y), 4)}')"
   ]
  },
  {
   "cell_type": "markdown",
   "metadata": {},
   "source": [
    "## Conclusion\n",
    "\n",
    "As you can see from the work above, I have undertaken comprehensive analysis.\n",
    "\n",
    "In summary, I assessed the EDA, undertook feature engineering/selection and ran regression machine learning models to select the most predictive model. As a result, I have successfully created a model that is able to predict the HDB flat `resale_price` in Singapore. The Gradient Boosting Regressor has achieved satisfactory results (RMSE: \\\\$20,394, R-squared: 98.24\\%) for HDB resale price prediction compare to the base model (Linear Regression) results (RMSE: \\\\$35,954, R-squared: 94.54\\% - under section 2.3: Checking for Homoscedasticity). The Gradient Boosting Regressor model is superior to a simple Linear Regression model due to xxxx\n",
    "\n",
    "The top 5 features that impact the resale price based on the Gradient Boosting Regressor feature importance scores are:\n",
    "1. floor_area_sqm – it is obvious that the bigger the space, the greater the price of the HDB flat,\n",
    "2. dist_to_city – the nearer to the city, you will able to access to the better amenities and facilities,\n",
    "3. remaining_year – the longer the lease, you will able to apply for larger loan from the HDB or banks and the condition of the HDB flat would be relatively better,\n",
    "4. mean_floor – the higher floor, you will have better view, cooler, less noise, less mosquitoes etc,\n",
    "5. dist_to_pri_sch – Singapore citizen who live within 1km of the school will be given priority to get into the primary school. Most of the Singaporean families will tend stay near to the top primary school so that their children will able to get into the school.\n",
    "    \n",
    "I have also created a user-friendly __web application__ that require the user to select the features of their preferred HDB flat. Then the back-end application will generate the predictive price to provide the real time prediction.\n",
    "\n",
    "## Benefits of the model\n",
    "\n",
    "1. The predictive price is presented as a range e.g., the predicted price is \\\\$450,000, the range is between \\\\$430,000 to \\\\$470,000,\n",
    "2. Multiple features to improve price prediction,\n",
    "3. User-friendly web application,\n",
    "4. Can be used equally by buyer, seller, property agents or agencies and others.\n",
    "    \n",
    "## Limitations of the model\n",
    "\n",
    "1. The model is only able to predict the price for the nominated features, but the user is not able to enter the target price and then receive available HDB resale flats for that price and the associated features,\n",
    "2. This model is not applicable for other property price prediction because of the different features,\n",
    "3. Additional datasets not included may have been useful eg. GDP, population density of the HDB estates.\n",
    "    \n",
    "## Future Work\n",
    "\n",
    "Although my model has generated a reasonable low RMSE and high R-squared value (compare to baseline model), it should be noted that the real HDB flat resale price is much more complex and the list of the features, understandably is not an exhaustive list.\n",
    "\n",
    "There are many other factors should be taken into consideration such as overall flat conditions, overall Singapore economic conditions, government housing regulation or prospective future development at different town. In addition, it would be better if we have the information of the HDB flat original value when it was first sold.\n",
    "\n",
    "People's individual motivations will impact the price they are prepared to pay e.g., if I work in the West, I am likely to be prepared to pay more for HDB flat in the West than someone working in the East as we both factor in convenience in regards to travel in our price expectation. For someone working and living in the west, the travel time from home to CBD may not be of high priority, since they will spend most of their time within their neighbouirhood.\n",
    "\n",
    "Likewise, other social factor influences the price e.g., a neighbourhood may be undergoing upgrading new shopping mall, facilities etc and making it a \"cooler\" place to live. None of the datasets included capture such an issue.\n",
    "\n",
    "## Model Improvement\n",
    "\n",
    "Some specific elements to add to improve the predictivity of the model include:\n",
    "1. Additional features such as flat condition rating, GDP and population density of the HDB estates,\n",
    "2. Scrape more data from the different resources such as PropertyGuru or 99.co website,\n",
    "3. Retrain the model weight as and when new data added,\n",
    "4. Train a new model if new feature/s added,\n",
    "5. Tuning the hyperparameters of the machine learning model to discover the parameters of the model that result in the most skillful predictions.\n",
    "\n",
    "## Web Application Improvement\n",
    "\n",
    "Potential improvement for the web application includes:\n",
    "1. Reduce the number of user inputs by having automatic default selection e.g., when 4-Room flat is selected, the number of bedrooms and bathrooms will be filled automatically,\n",
    "2. Map driven selection,\n",
    "3. Visual display and details of the facilities and amenities around the area.\n",
    "\n",
    "Overall, the model is fit for purpose. It predicts price with a reasonable RMSE, is easy to use and processes the result quickly. More data and features would improve the model but I am pleased to recommend this model to the future HDB purchasers - like myself."
   ]
  },
  {
   "cell_type": "code",
   "execution_count": null,
   "metadata": {},
   "outputs": [],
   "source": []
  }
 ],
 "metadata": {
  "kernelspec": {
   "display_name": "Python 3",
   "language": "python",
   "name": "python3"
  },
  "language_info": {
   "codemirror_mode": {
    "name": "ipython",
    "version": 3
   },
   "file_extension": ".py",
   "mimetype": "text/x-python",
   "name": "python",
   "nbconvert_exporter": "python",
   "pygments_lexer": "ipython3",
   "version": "3.8.3"
  },
  "toc": {
   "base_numbering": 1,
   "nav_menu": {},
   "number_sections": true,
   "sideBar": true,
   "skip_h1_title": false,
   "title_cell": "Table of Contents",
   "title_sidebar": "Contents",
   "toc_cell": false,
   "toc_position": {
    "height": "calc(100% - 180px)",
    "left": "10px",
    "top": "150px",
    "width": "384px"
   },
   "toc_section_display": true,
   "toc_window_display": false
  }
 },
 "nbformat": 4,
 "nbformat_minor": 4
}
